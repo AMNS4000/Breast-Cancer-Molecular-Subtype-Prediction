{
 "cells": [
  {
   "cell_type": "code",
   "execution_count": 1,
   "metadata": {},
   "outputs": [
    {
     "name": "stdout",
     "output_type": "stream",
     "text": [
      "INFO: Pandarallel will run on 12 workers.\n",
      "INFO: Pandarallel will use standard multiprocessing data transfer (pipe) to transfer data between the main process and workers.\n",
      "\n",
      "WARNING: You are on Windows. If you detect any issue with pandarallel, be sure you checked out the Troubleshooting page:\n",
      "https://nalepae.github.io/pandarallel/troubleshooting/\n"
     ]
    }
   ],
   "source": [
    "import glob\n",
    "import pydicom\n",
    "import nibabel\n",
    "import os\n",
    "from PIL import Image\n",
    "from pathlib import Path\n",
    "import numpy as np\n",
    "import pandas as pd\n",
    "\n",
    "from tqdm import tqdm\n",
    "\n",
    "# path to the original NIFTI dataset\n",
    "path = '../../../Processed NIFTI Dataset/'\n",
    "\n",
    "# path = '../../../Simple Path Dataset/manifest-1654812109500/Duke-Breast-Cancer-MRI/'\n",
    "\n",
    "# path to which we want to save the PNG images\n",
    "img_save_path = '../../../2D Pretrain/'\n",
    "\n",
    "from pandarallel import pandarallel\n",
    "\n",
    "tqdm.pandas()\n",
    "pandarallel.initialize(progress_bar=True,nb_workers= 12)\n",
    "from pathlib import Path"
   ]
  },
  {
   "cell_type": "code",
   "execution_count": 2,
   "metadata": {},
   "outputs": [],
   "source": [
    "# get all files that aren't the segmentation masks \n",
    "files = glob.glob(path + '*/[!segmentation]*.img.gz', recursive=True)\n",
    "\n",
    "# files = glob.glob(path + '*/*/*/*.dcm', recursive=True)\n",
    "\n",
    "os.makedirs(img_save_path, mode = 511, exist_ok=True)"
   ]
  },
  {
   "cell_type": "code",
   "execution_count": 3,
   "metadata": {},
   "outputs": [
    {
     "data": {
      "text/plain": [
       "'post_1.img.gz'"
      ]
     },
     "execution_count": 3,
     "metadata": {},
     "output_type": "execute_result"
    }
   ],
   "source": [
    "Path('../../../Processed NIFTI Dataset\\\\Breast_MRI_001\\\\post_1.img.gz').name"
   ]
  },
  {
   "cell_type": "code",
   "execution_count": 4,
   "metadata": {},
   "outputs": [
    {
     "data": {
      "text/html": [
       "<div>\n",
       "<style scoped>\n",
       "    .dataframe tbody tr th:only-of-type {\n",
       "        vertical-align: middle;\n",
       "    }\n",
       "\n",
       "    .dataframe tbody tr th {\n",
       "        vertical-align: top;\n",
       "    }\n",
       "\n",
       "    .dataframe thead th {\n",
       "        text-align: right;\n",
       "    }\n",
       "</style>\n",
       "<table border=\"1\" class=\"dataframe\">\n",
       "  <thead>\n",
       "    <tr style=\"text-align: right;\">\n",
       "      <th></th>\n",
       "      <th>filepath</th>\n",
       "      <th>patient</th>\n",
       "      <th>ser_type</th>\n",
       "    </tr>\n",
       "  </thead>\n",
       "  <tbody>\n",
       "    <tr>\n",
       "      <th>0</th>\n",
       "      <td>../../../Processed NIFTI Dataset\\Breast_MRI_00...</td>\n",
       "      <td>Breast_MRI_001</td>\n",
       "      <td>post_1</td>\n",
       "    </tr>\n",
       "    <tr>\n",
       "      <th>1</th>\n",
       "      <td>../../../Processed NIFTI Dataset\\Breast_MRI_00...</td>\n",
       "      <td>Breast_MRI_001</td>\n",
       "      <td>pre</td>\n",
       "    </tr>\n",
       "    <tr>\n",
       "      <th>2</th>\n",
       "      <td>../../../Processed NIFTI Dataset\\Breast_MRI_00...</td>\n",
       "      <td>Breast_MRI_002</td>\n",
       "      <td>post_1</td>\n",
       "    </tr>\n",
       "    <tr>\n",
       "      <th>3</th>\n",
       "      <td>../../../Processed NIFTI Dataset\\Breast_MRI_00...</td>\n",
       "      <td>Breast_MRI_002</td>\n",
       "      <td>pre</td>\n",
       "    </tr>\n",
       "    <tr>\n",
       "      <th>4</th>\n",
       "      <td>../../../Processed NIFTI Dataset\\Breast_MRI_00...</td>\n",
       "      <td>Breast_MRI_003</td>\n",
       "      <td>post_1</td>\n",
       "    </tr>\n",
       "    <tr>\n",
       "      <th>...</th>\n",
       "      <td>...</td>\n",
       "      <td>...</td>\n",
       "      <td>...</td>\n",
       "    </tr>\n",
       "    <tr>\n",
       "      <th>1839</th>\n",
       "      <td>../../../Processed NIFTI Dataset\\Breast_MRI_92...</td>\n",
       "      <td>Breast_MRI_920</td>\n",
       "      <td>pre</td>\n",
       "    </tr>\n",
       "    <tr>\n",
       "      <th>1840</th>\n",
       "      <td>../../../Processed NIFTI Dataset\\Breast_MRI_92...</td>\n",
       "      <td>Breast_MRI_921</td>\n",
       "      <td>post_1</td>\n",
       "    </tr>\n",
       "    <tr>\n",
       "      <th>1841</th>\n",
       "      <td>../../../Processed NIFTI Dataset\\Breast_MRI_92...</td>\n",
       "      <td>Breast_MRI_921</td>\n",
       "      <td>pre</td>\n",
       "    </tr>\n",
       "    <tr>\n",
       "      <th>1842</th>\n",
       "      <td>../../../Processed NIFTI Dataset\\Breast_MRI_92...</td>\n",
       "      <td>Breast_MRI_922</td>\n",
       "      <td>post_1</td>\n",
       "    </tr>\n",
       "    <tr>\n",
       "      <th>1843</th>\n",
       "      <td>../../../Processed NIFTI Dataset\\Breast_MRI_92...</td>\n",
       "      <td>Breast_MRI_922</td>\n",
       "      <td>pre</td>\n",
       "    </tr>\n",
       "  </tbody>\n",
       "</table>\n",
       "<p>1844 rows × 3 columns</p>\n",
       "</div>"
      ],
      "text/plain": [
       "                                               filepath         patient  \\\n",
       "0     ../../../Processed NIFTI Dataset\\Breast_MRI_00...  Breast_MRI_001   \n",
       "1     ../../../Processed NIFTI Dataset\\Breast_MRI_00...  Breast_MRI_001   \n",
       "2     ../../../Processed NIFTI Dataset\\Breast_MRI_00...  Breast_MRI_002   \n",
       "3     ../../../Processed NIFTI Dataset\\Breast_MRI_00...  Breast_MRI_002   \n",
       "4     ../../../Processed NIFTI Dataset\\Breast_MRI_00...  Breast_MRI_003   \n",
       "...                                                 ...             ...   \n",
       "1839  ../../../Processed NIFTI Dataset\\Breast_MRI_92...  Breast_MRI_920   \n",
       "1840  ../../../Processed NIFTI Dataset\\Breast_MRI_92...  Breast_MRI_921   \n",
       "1841  ../../../Processed NIFTI Dataset\\Breast_MRI_92...  Breast_MRI_921   \n",
       "1842  ../../../Processed NIFTI Dataset\\Breast_MRI_92...  Breast_MRI_922   \n",
       "1843  ../../../Processed NIFTI Dataset\\Breast_MRI_92...  Breast_MRI_922   \n",
       "\n",
       "     ser_type  \n",
       "0      post_1  \n",
       "1         pre  \n",
       "2      post_1  \n",
       "3         pre  \n",
       "4      post_1  \n",
       "...       ...  \n",
       "1839      pre  \n",
       "1840   post_1  \n",
       "1841      pre  \n",
       "1842   post_1  \n",
       "1843      pre  \n",
       "\n",
       "[1844 rows x 3 columns]"
      ]
     },
     "execution_count": 4,
     "metadata": {},
     "output_type": "execute_result"
    }
   ],
   "source": [
    "filepaths = pd.DataFrame.from_records([files]).T.rename(columns = {0: 'filepath'})\n",
    "filepaths['patient'] = filepaths['filepath'].apply(lambda x: Path(x).parent.name)\n",
    "filepaths['ser_type'] = filepaths['filepath'].apply(lambda x: Path(x).name.split('.')[0])\n",
    "filepaths"
   ]
  },
  {
   "cell_type": "code",
   "execution_count": 5,
   "metadata": {},
   "outputs": [
    {
     "data": {
      "application/vnd.jupyter.widget-view+json": {
       "model_id": "ffa1d21c89604b89bff6db440ce500e5",
       "version_major": 2,
       "version_minor": 0
      },
      "text/plain": [
       "VBox(children=(HBox(children=(IntProgress(value=0, description='0.00%', max=154), Label(value='0 / 154'))), HB…"
      ]
     },
     "metadata": {},
     "output_type": "display_data"
    }
   ],
   "source": [
    "def process_row(row):\n",
    "    import os, nibabel\n",
    "    from PIL import Image\n",
    "    \n",
    "    img_save_path = '../../../2D Pretrain/'\n",
    "    \n",
    "    \n",
    "    filename = row['filepath']\n",
    "    patient = row['patient']\n",
    "    scan_type = row['ser_type']\n",
    "    # get patient name and filename\n",
    "    new_path = os.path.join(img_save_path, patient)\n",
    "    os.makedirs(new_path, mode = 511, exist_ok=True)\n",
    "    \n",
    "    # load data\n",
    "    scan = nibabel.load(filename)\n",
    "    scan = scan.get_fdata()\n",
    "    for plane in range(scan.shape[2]):\n",
    "        # get relevant subsection\n",
    "        p = scan[:, :, plane]#.astype(np.uint16)\\\n",
    "        normalized_slice = 255 * (p - p.min()) / (p.max() - p.min())\n",
    "        normalized_slice = normalized_slice.astype('uint8')\n",
    "        # create image\n",
    "        img = Image.fromarray(normalized_slice)\n",
    "        # note save path\n",
    "        save_path = f\"{new_path}/{scan_type}_{plane}.png\"\n",
    "        \n",
    "        img.save(save_path)\n",
    "        \n",
    "filepaths.parallel_apply(process_row, axis = 1)"
   ]
  },
  {
   "cell_type": "code",
   "execution_count": null,
   "metadata": {},
   "outputs": [],
   "source": []
  }
 ],
 "metadata": {
  "kernelspec": {
   "display_name": "breast_mri_3.11",
   "language": "python",
   "name": "python3"
  },
  "language_info": {
   "codemirror_mode": {
    "name": "ipython",
    "version": 3
   },
   "file_extension": ".py",
   "mimetype": "text/x-python",
   "name": "python",
   "nbconvert_exporter": "python",
   "pygments_lexer": "ipython3",
   "version": "3.11.0"
  }
 },
 "nbformat": 4,
 "nbformat_minor": 2
}
