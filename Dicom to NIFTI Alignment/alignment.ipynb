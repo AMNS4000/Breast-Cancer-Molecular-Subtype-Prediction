{
 "cells": [
  {
   "cell_type": "code",
   "execution_count": 1,
   "metadata": {},
   "outputs": [
    {
     "name": "stderr",
     "output_type": "stream",
     "text": [
      "C:\\Users\\krish\\AppData\\Local\\Temp\\ipykernel_55456\\407344333.py:18: UserWarning: The DICOM readers are highly experimental, unstable, and only work for Siemens time-series at the moment\n",
      "Please use with caution.  We would be grateful for your help in improving them\n",
      "  from nibabel.nicom.dicomwrappers import wrapper_from_file\n"
     ]
    }
   ],
   "source": [
    "import pandas as pd\n",
    "import numpy as np\n",
    "import matplotlib.pyplot as plt\n",
    "\n",
    "import pydicom as dicom\n",
    "import dicom2nifti\n",
    "import nibabel as nib\n",
    "import os\n",
    "\n",
    "import pydicom\n",
    "\n",
    "import glob\n",
    "from tqdm import tqdm\n",
    "\n",
    "import multiprocessing\n",
    "import re\n",
    "\n",
    "from nibabel.nicom.dicomwrappers import wrapper_from_file\n",
    "\n",
    "tqdm.pandas()\n",
    "np.set_printoptions(precision=3, suppress=True)\n"
   ]
  },
  {
   "cell_type": "code",
   "execution_count": 2,
   "metadata": {},
   "outputs": [],
   "source": [
    "img_directories = '../../Simple Path Dataset/manifest-1654812109500/'\n",
    "annotation_boxes = pd.read_excel(\"../../Simple Path Dataset/Annotation_Boxes.xlsx\").set_index(\"Patient ID\")\n",
    "\n",
    "FILE_EXT = '.img.gz'            # fileextension for nifti\n",
    "\n",
    "# for dicom2nifti\n",
    "transfer_directory = '../../Processed NIFTI Dataset/'\n",
    "\n",
    "seg_annotations = pd.read_csv('segmentation_annotations.csv')"
   ]
  },
  {
   "cell_type": "code",
   "execution_count": 3,
   "metadata": {},
   "outputs": [],
   "source": [
    "# file_descriptions = pd.read_excel(\"../../Simple Path Dataset/Breast-Cancer-MRI-filepath_filename-mapping.xlsx\")\n",
    "# file_descriptions = file_descriptions[['sop_instance_UID', 'original_path_and_filename', 'classic_path', 'descriptive_path']]\n",
    "\n",
    "# # process strings to get required info: patient ID, sequence, description, and dicom paths\n",
    "\n",
    "# file_descriptions['patient'] = file_descriptions['classic_path'].apply(lambda x: x.split('/')[1])\n",
    "# file_descriptions['sequence'] = file_descriptions['classic_path'].apply(lambda x: x.split('/')[3])\n",
    "# file_descriptions['description'] = file_descriptions['original_path_and_filename'].apply(lambda x: x.split('/')[2])\n",
    "# file_descriptions['dicom_paths'] = file_descriptions['classic_path'].apply(lambda x: '/'.join(x.split('/')[:-1]))"
   ]
  },
  {
   "cell_type": "code",
   "execution_count": 4,
   "metadata": {},
   "outputs": [],
   "source": [
    "# file_descriptions.description.unique()"
   ]
  },
  {
   "cell_type": "code",
   "execution_count": 5,
   "metadata": {},
   "outputs": [],
   "source": [
    "# #extract relevant file descriptions, pre and post_1 from simple file paths\n",
    "# relevant_file_descriptions = file_descriptions[file_descriptions['description'].isin(['post_1', 'pre'])]\n",
    "# relevant_data = relevant_file_descriptions[['patient', 'sequence', 'dicom_paths', 'description']].drop_duplicates().reset_index(drop = True)\n",
    "# relevant_data['dicom_paths'] = relevant_data['dicom_paths'].apply(lambda x: os.path.join(img_directories, x))\n",
    "# relevant_data['patient_dir'] = relevant_data['patient'].apply(lambda x: os.path.join(transfer_directory, x))\n",
    "# relevant_data['output_paths'] = relevant_data.apply(lambda x: os.path.join(x['patient_dir'], x['description']) + FILE_EXT, axis = 1)\n",
    "# relevant_data.to_csv(\"relevant_data.csv\", index = False)"
   ]
  },
  {
   "cell_type": "code",
   "execution_count": 6,
   "metadata": {},
   "outputs": [
    {
     "data": {
      "text/html": [
       "<div>\n",
       "<style scoped>\n",
       "    .dataframe tbody tr th:only-of-type {\n",
       "        vertical-align: middle;\n",
       "    }\n",
       "\n",
       "    .dataframe tbody tr th {\n",
       "        vertical-align: top;\n",
       "    }\n",
       "\n",
       "    .dataframe thead th {\n",
       "        text-align: right;\n",
       "    }\n",
       "</style>\n",
       "<table border=\"1\" class=\"dataframe\">\n",
       "  <thead>\n",
       "    <tr style=\"text-align: right;\">\n",
       "      <th></th>\n",
       "      <th>patient</th>\n",
       "      <th>sequence</th>\n",
       "      <th>dicom_paths</th>\n",
       "      <th>description</th>\n",
       "      <th>patient_dir</th>\n",
       "      <th>output_paths</th>\n",
       "    </tr>\n",
       "  </thead>\n",
       "  <tbody>\n",
       "    <tr>\n",
       "      <th>0</th>\n",
       "      <td>Breast_MRI_001</td>\n",
       "      <td>1.3.6.1.4.1.14519.5.2.1.1514720349923003958578...</td>\n",
       "      <td>../../Simple Path Dataset/manifest-16548121095...</td>\n",
       "      <td>post_1</td>\n",
       "      <td>../../Github NIFTI/Breast_MRI_001</td>\n",
       "      <td>../../Github NIFTI/Breast_MRI_001\\post_1.nii.gz</td>\n",
       "    </tr>\n",
       "    <tr>\n",
       "      <th>1</th>\n",
       "      <td>Breast_MRI_001</td>\n",
       "      <td>1.3.6.1.4.1.14519.5.2.1.1857778498036652445367...</td>\n",
       "      <td>../../Simple Path Dataset/manifest-16548121095...</td>\n",
       "      <td>pre</td>\n",
       "      <td>../../Github NIFTI/Breast_MRI_001</td>\n",
       "      <td>../../Github NIFTI/Breast_MRI_001\\pre.nii.gz</td>\n",
       "    </tr>\n",
       "    <tr>\n",
       "      <th>2</th>\n",
       "      <td>Breast_MRI_002</td>\n",
       "      <td>1.3.6.1.4.1.14519.5.2.1.1702386334115195086234...</td>\n",
       "      <td>../../Simple Path Dataset/manifest-16548121095...</td>\n",
       "      <td>post_1</td>\n",
       "      <td>../../Github NIFTI/Breast_MRI_002</td>\n",
       "      <td>../../Github NIFTI/Breast_MRI_002\\post_1.nii.gz</td>\n",
       "    </tr>\n",
       "    <tr>\n",
       "      <th>3</th>\n",
       "      <td>Breast_MRI_002</td>\n",
       "      <td>1.3.6.1.4.1.14519.5.2.1.2920879504444133146439...</td>\n",
       "      <td>../../Simple Path Dataset/manifest-16548121095...</td>\n",
       "      <td>pre</td>\n",
       "      <td>../../Github NIFTI/Breast_MRI_002</td>\n",
       "      <td>../../Github NIFTI/Breast_MRI_002\\pre.nii.gz</td>\n",
       "    </tr>\n",
       "    <tr>\n",
       "      <th>4</th>\n",
       "      <td>Breast_MRI_003</td>\n",
       "      <td>1.3.6.1.4.1.14519.5.2.1.3339321204011089072051...</td>\n",
       "      <td>../../Simple Path Dataset/manifest-16548121095...</td>\n",
       "      <td>post_1</td>\n",
       "      <td>../../Github NIFTI/Breast_MRI_003</td>\n",
       "      <td>../../Github NIFTI/Breast_MRI_003\\post_1.nii.gz</td>\n",
       "    </tr>\n",
       "    <tr>\n",
       "      <th>...</th>\n",
       "      <td>...</td>\n",
       "      <td>...</td>\n",
       "      <td>...</td>\n",
       "      <td>...</td>\n",
       "      <td>...</td>\n",
       "      <td>...</td>\n",
       "    </tr>\n",
       "    <tr>\n",
       "      <th>1839</th>\n",
       "      <td>Breast_MRI_920</td>\n",
       "      <td>1.3.6.1.4.1.14519.5.2.1.2243370307638913554367...</td>\n",
       "      <td>../../Simple Path Dataset/manifest-16548121095...</td>\n",
       "      <td>pre</td>\n",
       "      <td>../../Github NIFTI/Breast_MRI_920</td>\n",
       "      <td>../../Github NIFTI/Breast_MRI_920\\pre.nii.gz</td>\n",
       "    </tr>\n",
       "    <tr>\n",
       "      <th>1840</th>\n",
       "      <td>Breast_MRI_921</td>\n",
       "      <td>1.3.6.1.4.1.14519.5.2.1.2153335720893817815538...</td>\n",
       "      <td>../../Simple Path Dataset/manifest-16548121095...</td>\n",
       "      <td>post_1</td>\n",
       "      <td>../../Github NIFTI/Breast_MRI_921</td>\n",
       "      <td>../../Github NIFTI/Breast_MRI_921\\post_1.nii.gz</td>\n",
       "    </tr>\n",
       "    <tr>\n",
       "      <th>1841</th>\n",
       "      <td>Breast_MRI_921</td>\n",
       "      <td>1.3.6.1.4.1.14519.5.2.1.2995579324872770731987...</td>\n",
       "      <td>../../Simple Path Dataset/manifest-16548121095...</td>\n",
       "      <td>pre</td>\n",
       "      <td>../../Github NIFTI/Breast_MRI_921</td>\n",
       "      <td>../../Github NIFTI/Breast_MRI_921\\pre.nii.gz</td>\n",
       "    </tr>\n",
       "    <tr>\n",
       "      <th>1842</th>\n",
       "      <td>Breast_MRI_922</td>\n",
       "      <td>1.3.6.1.4.1.14519.5.2.1.5039771361051598068760...</td>\n",
       "      <td>../../Simple Path Dataset/manifest-16548121095...</td>\n",
       "      <td>post_1</td>\n",
       "      <td>../../Github NIFTI/Breast_MRI_922</td>\n",
       "      <td>../../Github NIFTI/Breast_MRI_922\\post_1.nii.gz</td>\n",
       "    </tr>\n",
       "    <tr>\n",
       "      <th>1843</th>\n",
       "      <td>Breast_MRI_922</td>\n",
       "      <td>1.3.6.1.4.1.14519.5.2.1.5520878383990296798044...</td>\n",
       "      <td>../../Simple Path Dataset/manifest-16548121095...</td>\n",
       "      <td>pre</td>\n",
       "      <td>../../Github NIFTI/Breast_MRI_922</td>\n",
       "      <td>../../Github NIFTI/Breast_MRI_922\\pre.nii.gz</td>\n",
       "    </tr>\n",
       "  </tbody>\n",
       "</table>\n",
       "<p>1844 rows × 6 columns</p>\n",
       "</div>"
      ],
      "text/plain": [
       "             patient                                           sequence  \\\n",
       "0     Breast_MRI_001  1.3.6.1.4.1.14519.5.2.1.1514720349923003958578...   \n",
       "1     Breast_MRI_001  1.3.6.1.4.1.14519.5.2.1.1857778498036652445367...   \n",
       "2     Breast_MRI_002  1.3.6.1.4.1.14519.5.2.1.1702386334115195086234...   \n",
       "3     Breast_MRI_002  1.3.6.1.4.1.14519.5.2.1.2920879504444133146439...   \n",
       "4     Breast_MRI_003  1.3.6.1.4.1.14519.5.2.1.3339321204011089072051...   \n",
       "...              ...                                                ...   \n",
       "1839  Breast_MRI_920  1.3.6.1.4.1.14519.5.2.1.2243370307638913554367...   \n",
       "1840  Breast_MRI_921  1.3.6.1.4.1.14519.5.2.1.2153335720893817815538...   \n",
       "1841  Breast_MRI_921  1.3.6.1.4.1.14519.5.2.1.2995579324872770731987...   \n",
       "1842  Breast_MRI_922  1.3.6.1.4.1.14519.5.2.1.5039771361051598068760...   \n",
       "1843  Breast_MRI_922  1.3.6.1.4.1.14519.5.2.1.5520878383990296798044...   \n",
       "\n",
       "                                            dicom_paths description  \\\n",
       "0     ../../Simple Path Dataset/manifest-16548121095...      post_1   \n",
       "1     ../../Simple Path Dataset/manifest-16548121095...         pre   \n",
       "2     ../../Simple Path Dataset/manifest-16548121095...      post_1   \n",
       "3     ../../Simple Path Dataset/manifest-16548121095...         pre   \n",
       "4     ../../Simple Path Dataset/manifest-16548121095...      post_1   \n",
       "...                                                 ...         ...   \n",
       "1839  ../../Simple Path Dataset/manifest-16548121095...         pre   \n",
       "1840  ../../Simple Path Dataset/manifest-16548121095...      post_1   \n",
       "1841  ../../Simple Path Dataset/manifest-16548121095...         pre   \n",
       "1842  ../../Simple Path Dataset/manifest-16548121095...      post_1   \n",
       "1843  ../../Simple Path Dataset/manifest-16548121095...         pre   \n",
       "\n",
       "                            patient_dir  \\\n",
       "0     ../../Github NIFTI/Breast_MRI_001   \n",
       "1     ../../Github NIFTI/Breast_MRI_001   \n",
       "2     ../../Github NIFTI/Breast_MRI_002   \n",
       "3     ../../Github NIFTI/Breast_MRI_002   \n",
       "4     ../../Github NIFTI/Breast_MRI_003   \n",
       "...                                 ...   \n",
       "1839  ../../Github NIFTI/Breast_MRI_920   \n",
       "1840  ../../Github NIFTI/Breast_MRI_921   \n",
       "1841  ../../Github NIFTI/Breast_MRI_921   \n",
       "1842  ../../Github NIFTI/Breast_MRI_922   \n",
       "1843  ../../Github NIFTI/Breast_MRI_922   \n",
       "\n",
       "                                         output_paths  \n",
       "0     ../../Github NIFTI/Breast_MRI_001\\post_1.nii.gz  \n",
       "1        ../../Github NIFTI/Breast_MRI_001\\pre.nii.gz  \n",
       "2     ../../Github NIFTI/Breast_MRI_002\\post_1.nii.gz  \n",
       "3        ../../Github NIFTI/Breast_MRI_002\\pre.nii.gz  \n",
       "4     ../../Github NIFTI/Breast_MRI_003\\post_1.nii.gz  \n",
       "...                                               ...  \n",
       "1839     ../../Github NIFTI/Breast_MRI_920\\pre.nii.gz  \n",
       "1840  ../../Github NIFTI/Breast_MRI_921\\post_1.nii.gz  \n",
       "1841     ../../Github NIFTI/Breast_MRI_921\\pre.nii.gz  \n",
       "1842  ../../Github NIFTI/Breast_MRI_922\\post_1.nii.gz  \n",
       "1843     ../../Github NIFTI/Breast_MRI_922\\pre.nii.gz  \n",
       "\n",
       "[1844 rows x 6 columns]"
      ]
     },
     "execution_count": 6,
     "metadata": {},
     "output_type": "execute_result"
    }
   ],
   "source": [
    "relevant_data = pd.read_csv(\"relevant_data.csv\")\n",
    "relevant_data"
   ]
  },
  {
   "cell_type": "code",
   "execution_count": 7,
   "metadata": {},
   "outputs": [],
   "source": [
    "def dicom_to_volume(dicom_series):\n",
    "    \"\"\"Convert a DICOM series into a float32 volume with orientation.\n",
    "    The input should be a list of 'dataset' objects from pydicom.\n",
    "    The output is a tuple (voxel_array, voxel_spacing, affine_matrix)\n",
    "    \"\"\"\n",
    "    # Create numpy arrays for volume, pixel spacing (ps),\n",
    "    # slice position (ipp or ImagePositionPatient), and\n",
    "    # slice orientation (iop or ImageOrientationPatient)\n",
    "    n = len(dicom_series)\n",
    "    shape = (n,) + dicom_series[0].pixel_array.shape\n",
    "    vol = np.empty(shape, dtype=np.float32)\n",
    "    ps = np.empty((n,2), dtype=np.float64)\n",
    "    ipp = np.empty((n,3), dtype=np.float64)\n",
    "    iop = np.empty((n,6), dtype=np.float64)\n",
    "\n",
    "    for i, ds in enumerate(dicom_series):\n",
    "        # create a single complex-valued image from real,imag\n",
    "        image = ds.pixel_array\n",
    "        try:\n",
    "            slope = float(ds.RescaleSlope)\n",
    "        except (AttributeError, ValueError):\n",
    "            slope = 1.0\n",
    "        try:\n",
    "            intercept = float(ds.RescaleIntercept)\n",
    "        except (AttributeError, ValueError):\n",
    "            intercept = 0.0\n",
    "        vol[i,:,:] = image*slope + intercept\n",
    "        ps[i,:] = dicom_series[i].PixelSpacing\n",
    "        ipp[i,:] = dicom_series[i].ImagePositionPatient\n",
    "        iop[i,:] = dicom_series[i].ImageOrientationPatient\n",
    "\n",
    "    # create nibabel-style affine matrix and pixdim\n",
    "    # (these give DICOM LPS coords, not NIFTI RAS coords)\n",
    "    affine, pixdim = create_affine(ipp, iop, ps)\n",
    "    return vol, pixdim, affine\n",
    "\n",
    "def create_affine(ipp, iop, ps):\n",
    "    \"\"\"Generate an affine matrix from DICOM IPP and IOP attributes.\n",
    "    The ipp (ImagePositionPatient) parameter should an Nx3 array, and\n",
    "    the iop (ImageOrientationPatient) parameter should be Nx6, where\n",
    "    N is the number of DICOM slices in the series.\n",
    "    The return values are the affine matrix and the pixdim.\n",
    "    Note the the output will use DICOM anatomical coordinates:\n",
    "    x increases towards the left, y increases towards the back.\n",
    "    \"\"\"\n",
    "    # solve Ax = b where x is slope, intecept\n",
    "    n = ipp.shape[0]\n",
    "    A = np.column_stack([np.arange(n), np.ones(n)])\n",
    "    x, r, rank, s = np.linalg.lstsq(A, ipp, rcond=None)\n",
    "    # round small values to zero\n",
    "    x[(np.abs(x) < 1e-6)] = 0.0\n",
    "    vec = x[0,:] # slope\n",
    "    pos = x[1,:] # intercept\n",
    "\n",
    "    # pixel spacing should be the same for all image\n",
    "    spacing = np.ones(3)\n",
    "    spacing[1::-1] = ps[0,:]\n",
    "    if np.sum(np.abs(ps - spacing[1::-1])) > spacing[0]*1e-6:\n",
    "        print(\"Pixel spacing is inconsistent!\\n\");\n",
    "\n",
    "    # compute slice spacing, round to 7 decimal places\n",
    "    spacing[2] = np.round(np.sqrt(np.sum(np.square(vec))), 7)\n",
    "\n",
    "    # get the orientation\n",
    "    iop_average = np.mean(iop, axis=0)\n",
    "    u = iop_average[0:3]\n",
    "    u /= np.sqrt(np.sum(np.square(u)))\n",
    "    v = iop_average[3:6]\n",
    "    v /= np.sqrt(np.sum(np.square(v)))\n",
    "\n",
    "    # round small values to zero\n",
    "    u[(np.abs(u) < 1e-6)] = 0.0\n",
    "    v[(np.abs(v) < 1e-6)] = 0.0\n",
    "\n",
    "    # create the matrix\n",
    "    mat = np.eye(4)\n",
    "    mat[0:3,0] = u*spacing[0]\n",
    "    mat[0:3,1] = v*spacing[1]\n",
    "    mat[0:3,2] = vec\n",
    "    mat[0:3,3] = pos\n",
    "\n",
    "    # check whether slice vec is orthogonal to iop vectors\n",
    "    dv = np.dot(vec, np.cross(u, v))\n",
    "    qfac = np.sign(dv)\n",
    "    if np.abs(qfac*dv - spacing[2]) > 1e-6:\n",
    "        print(\"Non-orthogonal volume!\\n\");\n",
    "\n",
    "    # compute the pixdim array, with qfac as the first element\n",
    "    pixdim = np.hstack([np.array(qfac), spacing])\n",
    "\n",
    "    return mat, pixdim"
   ]
  },
  {
   "cell_type": "code",
   "execution_count": 128,
   "metadata": {},
   "outputs": [
    {
     "data": {
      "text/plain": [
       "'../../Processed NIFTI Dataset/Breast_MRI_006\\\\post_1.img.gz'"
      ]
     },
     "execution_count": 128,
     "metadata": {},
     "output_type": "execute_result"
    }
   ],
   "source": [
    "# take one patient\n",
    "row = relevant_data[relevant_data['description'] == 'post_1'].iloc[5]\n",
    "patient = row['patient']\n",
    "dicom_path = row['dicom_paths']\n",
    "filetype = row['description']\n",
    "\n",
    "nifti_path = os.path.join(transfer_directory, patient, filetype) + FILE_EXT\n",
    "nifti_path"
   ]
  },
  {
   "cell_type": "code",
   "execution_count": 129,
   "metadata": {},
   "outputs": [],
   "source": [
    "dcm_files = glob.glob(os.path.join(dicom_path, '*.dcm'))\n",
    "dcm_file = dcm_files[0]\n",
    "\n",
    "dcms = sorted([pydicom.dcmread(x) for x in dcm_files], key =lambda x: int(x.InstanceNumber))\n",
    "\n",
    "dcm = wrapper_from_file(dcm_file)\n",
    "dcm_pydicom = pydicom.dcmread(dcm_file)\n",
    "nifti = nib.nifti1.load(nifti_path)\n",
    "\n",
    "# dcm = dicom.dcmread(dcm_file)\n",
    "\n",
    "_, _, aff_dcm = dicom_to_volume(dcms)"
   ]
  },
  {
   "cell_type": "code",
   "execution_count": 130,
   "metadata": {},
   "outputs": [
    {
     "data": {
      "text/plain": [
       "array([[   0.   ,   -0.684,   -0.   ,  178.305],\n",
       "       [  -0.684,    0.   ,   -0.   ,  220.512],\n",
       "       [   0.   ,    0.   ,   -1.   , -100.817],\n",
       "       [   0.   ,    0.   ,    0.   ,    1.   ]])"
      ]
     },
     "execution_count": 130,
     "metadata": {},
     "output_type": "execute_result"
    }
   ],
   "source": [
    "dcm.affine"
   ]
  },
  {
   "cell_type": "code",
   "execution_count": 131,
   "metadata": {},
   "outputs": [
    {
     "data": {
      "text/plain": [
       "array([[   0.684,    0.   ,   -0.   , -178.305],\n",
       "       [   0.   ,    0.684,   -0.   , -220.512],\n",
       "       [   0.   ,    0.   ,    1.   , -100.817],\n",
       "       [   0.   ,    0.   ,    0.   ,    1.   ]])"
      ]
     },
     "execution_count": 131,
     "metadata": {},
     "output_type": "execute_result"
    }
   ],
   "source": [
    "nifti.affine"
   ]
  },
  {
   "cell_type": "code",
   "execution_count": 132,
   "metadata": {},
   "outputs": [],
   "source": [
    "# # Extract IPP, IOP, and Pixel Spacing\n",
    "# ipp = np.array(dcm_pydicom.ImagePositionPatient)\n",
    "# iop = np.array(dcm_pydicom.ImageOrientationPatient).reshape(2, 3)\n",
    "# pixel_spacing = np.array(dcm_pydicom.PixelSpacing)\n",
    "\n",
    "# # Construct the DICOM to patient coordinate system transformation matrix\n",
    "# dicom_to_patient_matrix = np.zeros((4, 4))\n",
    "\n",
    "\n",
    "# dicom_to_patient_matrix[:3, :3] = np.hstack((iop[:, 0:1] * pixel_spacing[0], iop[:, 1:2] * pixel_spacing[1], np.cross(iop[:, 0], iop[:, 1]).reshape(3, 1)))\n",
    "# dicom_to_patient_matrix[:3, 3] = ipp\n",
    "# dicom_to_patient_matrix[3, 3] = 1"
   ]
  },
  {
   "cell_type": "code",
   "execution_count": 133,
   "metadata": {},
   "outputs": [],
   "source": [
    "aff_nif = nifti.affine\n",
    "# aff_dcm = dcm.affine"
   ]
  },
  {
   "cell_type": "code",
   "execution_count": 134,
   "metadata": {},
   "outputs": [
    {
     "data": {
      "text/plain": [
       "array([[  -0.684,    0.   ,    0.   ,  178.305],\n",
       "       [   0.   ,   -0.684,    0.   ,  220.512],\n",
       "       [   0.   ,    0.   ,    1.   , -100.817],\n",
       "       [   0.   ,    0.   ,    0.   ,    1.   ]])"
      ]
     },
     "execution_count": 134,
     "metadata": {},
     "output_type": "execute_result"
    }
   ],
   "source": [
    "aff_dcm"
   ]
  },
  {
   "cell_type": "code",
   "execution_count": 135,
   "metadata": {},
   "outputs": [
    {
     "data": {
      "text/plain": [
       "array([[ -1.,   0.,   0., 522.],\n",
       "       [  0.,  -1.,   0., 645.],\n",
       "       [  0.,   0.,   1.,   0.],\n",
       "       [  0.,   0.,   0.,   1.]])"
      ]
     },
     "execution_count": 135,
     "metadata": {},
     "output_type": "execute_result"
    }
   ],
   "source": [
    "vox_transform = np.rint(np.linalg.inv(aff_nif).dot(aff_dcm))\n",
    "vox_transform"
   ]
  },
  {
   "cell_type": "code",
   "execution_count": 136,
   "metadata": {},
   "outputs": [],
   "source": [
    "bb_details = annotation_boxes.loc[patient]\n",
    "start_row, end_row = bb_details['Start Row'], bb_details['End Row']\n",
    "start_col, end_col = bb_details['Start Column'], bb_details['End Column']\n",
    "start_slc, end_slc = bb_details['Start Slice'], bb_details['End Slice']\n",
    "\n",
    "corner1 = np.array([start_col, start_row, start_slc])\n",
    "corner2 = np.array([end_col, end_row, end_slc])\n",
    "\n",
    "trans_corner1 = np.rint(nib.affines.apply_affine(vox_transform, corner1))\n",
    "trans_corner2 = np.rint(nib.affines.apply_affine(vox_transform, corner2))\n",
    "\n",
    "# trans_corner1 = vox_transform@corner1\n",
    "# trans_corner2 = vox_transform@corner2"
   ]
  },
  {
   "cell_type": "code",
   "execution_count": 137,
   "metadata": {},
   "outputs": [
    {
     "data": {
      "text/plain": [
       "(39, 48)"
      ]
     },
     "execution_count": 137,
     "metadata": {},
     "output_type": "execute_result"
    }
   ],
   "source": [
    "start_slc, end_slc"
   ]
  },
  {
   "cell_type": "code",
   "execution_count": 138,
   "metadata": {},
   "outputs": [
    {
     "data": {
      "text/plain": [
       "array([408, 331,  39], dtype=int64)"
      ]
     },
     "execution_count": 138,
     "metadata": {},
     "output_type": "execute_result"
    }
   ],
   "source": [
    "corner1"
   ]
  },
  {
   "cell_type": "code",
   "execution_count": 139,
   "metadata": {},
   "outputs": [
    {
     "data": {
      "text/plain": [
       "array([434, 371,  48], dtype=int64)"
      ]
     },
     "execution_count": 139,
     "metadata": {},
     "output_type": "execute_result"
    }
   ],
   "source": [
    "corner2"
   ]
  },
  {
   "cell_type": "code",
   "execution_count": 140,
   "metadata": {},
   "outputs": [
    {
     "data": {
      "text/plain": [
       "array([114., 314.,  39.])"
      ]
     },
     "execution_count": 140,
     "metadata": {},
     "output_type": "execute_result"
    }
   ],
   "source": [
    "trans_corner1"
   ]
  },
  {
   "cell_type": "code",
   "execution_count": 141,
   "metadata": {},
   "outputs": [
    {
     "data": {
      "text/plain": [
       "array([ 88., 274.,  48.])"
      ]
     },
     "execution_count": 141,
     "metadata": {},
     "output_type": "execute_result"
    }
   ],
   "source": [
    "trans_corner2"
   ]
  },
  {
   "cell_type": "code",
   "execution_count": 142,
   "metadata": {},
   "outputs": [],
   "source": [
    "upper_corner = np.ceil(np.maximum(trans_corner1, trans_corner2))\n",
    "lower_corner = np.floor(np.minimum(trans_corner1, trans_corner2))"
   ]
  },
  {
   "cell_type": "code",
   "execution_count": 143,
   "metadata": {},
   "outputs": [],
   "source": [
    "\n",
    "srow, scol, sslice = lower_corner\n",
    "erow, ecol,  eslice = upper_corner"
   ]
  },
  {
   "cell_type": "code",
   "execution_count": 144,
   "metadata": {},
   "outputs": [],
   "source": [
    "if sslice <= 0:\n",
    "    sslice, eslice = nifti.dataobj.shape[-1] + sslice, nifti.dataobj.shape[-1] + eslice"
   ]
  },
  {
   "cell_type": "code",
   "execution_count": 145,
   "metadata": {},
   "outputs": [],
   "source": [
    "# flip along y-axis, then rotate counter-clockwise\n",
    "scol, ecol = nifti.dataobj.shape[0] - end_col, nifti.dataobj.shape[0] - start_col\n",
    "\n",
    "# x, y -> y, -x\n",
    "scol, ecol, srow, erow = start_row, end_row, nifti.dataobj.shape[1] - scol, nifti.dataobj.shape[1] - ecol, \n",
    "\n",
    "sslice, eslice = start_slc, end_slc"
   ]
  },
  {
   "cell_type": "code",
   "execution_count": 146,
   "metadata": {},
   "outputs": [],
   "source": [
    "# lower_corner"
   ]
  },
  {
   "cell_type": "code",
   "execution_count": 147,
   "metadata": {},
   "outputs": [
    {
     "data": {
      "text/plain": [
       "(39, 48, 'Breast_MRI_006')"
      ]
     },
     "execution_count": 147,
     "metadata": {},
     "output_type": "execute_result"
    }
   ],
   "source": [
    "sslice, eslice, patient"
   ]
  },
  {
   "cell_type": "code",
   "execution_count": 148,
   "metadata": {},
   "outputs": [],
   "source": [
    "from matplotlib import patches\n",
    "\n",
    "def plot(idx):\n",
    "    fig, ax = plt.subplots(1, 1, figsize = (6, 6))\n",
    "    ax.imshow(nifti.dataobj[:, :, idx], cmap = 'gray')\n",
    "    ax.add_patch(patches.Rectangle((scol, srow), ecol-scol, erow - srow, fill = False, edgecolor = 'red', lw = 1))"
   ]
  },
  {
   "cell_type": "code",
   "execution_count": 149,
   "metadata": {},
   "outputs": [
    {
     "data": {
      "application/vnd.jupyter.widget-view+json": {
       "model_id": "86e98feeb67b40e3b30ba601486122ff",
       "version_major": 2,
       "version_minor": 0
      },
      "text/plain": [
       "interactive(children=(IntSlider(value=43, description='idx', max=147), Output()), _dom_classes=('widget-intera…"
      ]
     },
     "metadata": {},
     "output_type": "display_data"
    },
    {
     "data": {
      "text/plain": [
       "<function __main__.plot(idx)>"
      ]
     },
     "execution_count": 149,
     "metadata": {},
     "output_type": "execute_result"
    }
   ],
   "source": [
    "from ipywidgets import Dropdown, IntSlider, Label\n",
    "from traitlets import directional_link\n",
    "from IPython.display import display\n",
    "import ipywidgets as widgets\n",
    "\n",
    "slice_max = nifti.dataobj.shape[-1]-1\n",
    "b = IntSlider(min = 0, max = slice_max, value = (sslice + eslice)//2)\n",
    "widgets.interact(plot, idx = b)"
   ]
  }
 ],
 "metadata": {
  "kernelspec": {
   "display_name": "breast_mri_3.11",
   "language": "python",
   "name": "python3"
  },
  "language_info": {
   "codemirror_mode": {
    "name": "ipython",
    "version": 3
   },
   "file_extension": ".py",
   "mimetype": "text/x-python",
   "name": "python",
   "nbconvert_exporter": "python",
   "pygments_lexer": "ipython3",
   "version": "3.11.0"
  }
 },
 "nbformat": 4,
 "nbformat_minor": 2
}
